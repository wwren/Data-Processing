{
 "cells": [
  {
   "cell_type": "markdown",
   "metadata": {},
   "source": [
    "## COMP20008 2020 Semester 2 Workshop 2 ##"
   ]
  },
  {
   "cell_type": "markdown",
   "metadata": {},
   "source": [
    "### Using lxml to read XML data\n",
    "\n"
   ]
  },
  {
   "cell_type": "markdown",
   "metadata": {},
   "source": [
    "We will use the *lxml* python package.   *lxml* provides us with various methods of dealing with XML data known as APIs (Application Programming Interfaces). The first way is the ElementTree API, which enables us to easily access XML data in a tree-like structure.  The full API reference is availabld [here](https://lxml.de/api/index.html), but is probably less useful than the pandas API refernece you encountered last week.  The official lxml site does, however, have a [tutorial](https://lxml.de/tutorial.html) which is quite through and makes a great reference.\n",
    "\n",
    "As with any other Python packages, you need to issue an import command to load a package:"
   ]
  },
  {
   "cell_type": "code",
   "execution_count": 1,
   "metadata": {},
   "outputs": [],
   "source": [
    "from lxml import etree\n"
   ]
  },
  {
   "cell_type": "markdown",
   "metadata": {},
   "source": [
    "For this section we will work with the royal.xml file, which contains the names of some members of the British royal family.  The code below simply displays the contents of that file, you can also open the file in a web browser or text editor.  Look through the file and ensure you understand its content."
   ]
  },
  {
   "cell_type": "code",
   "execution_count": 2,
   "metadata": {},
   "outputs": [
    {
     "name": "stdout",
     "output_type": "stream",
     "text": [
      "<?xml version=\"1.0\" encoding=\"utf-8\"?>\n",
      "  <queen title=\"Queen Elizabeth II\" marriedTo=\"Philip, Duke of Edinburgh\">\n",
      "      <prince title=\"Charles, Prince of Wales\" marriedTo=\"Lady Diana Spencer\">\n",
      "\t\t<prince title=\"Prince William of Wales\" />\n",
      "\t\t<prince title=\"Prince Henry of Wales\" />\n",
      "      </prince>\n",
      "      <princess title=\"Anne, Princess Royal\" />\n",
      "      <prince title=\"Andrew, Duke of York\" />\n",
      "      <prince title=\"Edward, Earl of Wessex\" />\n",
      "</queen>\n",
      "\n"
     ]
    }
   ],
   "source": [
    "f = open(\"royal.xml\", \"r\")\n",
    "text = f.read()\n",
    "print(text)\n",
    "f.close()"
   ]
  },
  {
   "cell_type": "markdown",
   "metadata": {},
   "source": [
    "In order to load an XML file and to represent it as a tree in computer memory, you need to parse the XML file. The etree.parse() function parses the XML file that is passed in as a parameter.  "
   ]
  },
  {
   "cell_type": "code",
   "execution_count": 3,
   "metadata": {},
   "outputs": [],
   "source": [
    "xmltree = etree.parse(\"royal.xml\")"
   ]
  },
  {
   "cell_type": "markdown",
   "metadata": {},
   "source": [
    "The *parse()* function returns an XML *ElementTree* object, which represents the whole XML tree. Each node in the tree is translated into an *Element* object .\n",
    "\n",
    "Use *getroot()* function of an *ElementTree* object to get the root element of the XML tree. You can print out the XML tag of an element using *tag* property."
   ]
  },
  {
   "cell_type": "code",
   "execution_count": 4,
   "metadata": {},
   "outputs": [
    {
     "data": {
      "text/plain": [
       "lxml.etree._ElementTree"
      ]
     },
     "execution_count": 4,
     "metadata": {},
     "output_type": "execute_result"
    }
   ],
   "source": [
    "type(xmltree)"
   ]
  },
  {
   "cell_type": "code",
   "execution_count": 5,
   "metadata": {},
   "outputs": [
    {
     "name": "stdout",
     "output_type": "stream",
     "text": [
      "b'<queen title=\"Queen Elizabeth II\" marriedTo=\"Philip, Duke of Edinburgh\">\\n      <prince title=\"Charles, Prince of Wales\" marriedTo=\"Lady Diana Spencer\">\\n\\t\\t<prince title=\"Prince William of Wales\"/>\\n\\t\\t<prince title=\"Prince Henry of Wales\"/>\\n      </prince>\\n      <princess title=\"Anne, Princess Royal\"/>\\n      <prince title=\"Andrew, Duke of York\"/>\\n      <prince title=\"Edward, Earl of Wessex\"/>\\n</queen>\\n'\n"
     ]
    }
   ],
   "source": [
    "#To check the etree object is really XML\n",
    "print(etree.tostring(xmltree, pretty_print=True, encoding=\"UTF-8\"))"
   ]
  },
  {
   "cell_type": "code",
   "execution_count": 6,
   "metadata": {},
   "outputs": [
    {
     "name": "stdout",
     "output_type": "stream",
     "text": [
      "queen\n"
     ]
    }
   ],
   "source": [
    "root = xmltree.getroot()\n",
    "print (root.tag)\n",
    "# indexing can only be used on one layer => queen is the root, its children on the same layer"
   ]
  },
  {
   "cell_type": "code",
   "execution_count": 7,
   "metadata": {},
   "outputs": [
    {
     "name": "stdout",
     "output_type": "stream",
     "text": [
      "b'<queen title=\"Queen Elizabeth II\" marriedTo=\"Philip, Duke of Edinburgh\">\\n      <prince title=\"Charles, Prince of Wales\" marriedTo=\"Lady Diana Spencer\">\\n\\t\\t<prince title=\"Prince William of Wales\"/>\\n\\t\\t<prince title=\"Prince Henry of Wales\"/>\\n      </prince>\\n      <princess title=\"Anne, Princess Royal\"/>\\n      <prince title=\"Andrew, Duke of York\"/>\\n      <prince title=\"Edward, Earl of Wessex\"/>\\n</queen>\\n'\n"
     ]
    }
   ],
   "source": [
    "print(etree.tostring(root, pretty_print=True, encoding=\"UTF-8\"))"
   ]
  },
  {
   "cell_type": "code",
   "execution_count": 8,
   "metadata": {},
   "outputs": [
    {
     "data": {
      "text/plain": [
       "lxml.etree._Element"
      ]
     },
     "execution_count": 8,
     "metadata": {},
     "output_type": "execute_result"
    }
   ],
   "source": [
    "type(root)"
   ]
  },
  {
   "cell_type": "markdown",
   "metadata": {},
   "source": [
    "### Traversing the XML Tree"
   ]
  },
  {
   "cell_type": "markdown",
   "metadata": {},
   "source": [
    "The following sections describe various methods for traversing the XML tree\n",
    "\n",
    "To obtain a list all of the children of an element, you can iterate over the XML *Element* itself:"
   ]
  },
  {
   "cell_type": "code",
   "execution_count": 9,
   "metadata": {},
   "outputs": [
    {
     "name": "stdout",
     "output_type": "stream",
     "text": [
      "prince\n",
      "princess\n",
      "prince\n",
      "prince\n"
     ]
    }
   ],
   "source": [
    "# iterate over very children of queen elizabath\n",
    "for e in root:\n",
    "   print (e.tag)"
   ]
  },
  {
   "cell_type": "markdown",
   "metadata": {},
   "source": [
    "You can use indexing to access the children of an element:\n"
   ]
  },
  {
   "cell_type": "code",
   "execution_count": 10,
   "metadata": {},
   "outputs": [
    {
     "name": "stdout",
     "output_type": "stream",
     "text": [
      "Charles, Prince of Wales\n"
     ]
    }
   ],
   "source": [
    "oldest_prince = root[0] #getting first child of root \n",
    "#print(type(oldest_prince))\n",
    "print (oldest_prince.get(\"title\")) #every child of the root is also an element (tree) => recursive structure "
   ]
  },
  {
   "cell_type": "code",
   "execution_count": 11,
   "metadata": {},
   "outputs": [
    {
     "data": {
      "text/plain": [
       "4"
      ]
     },
     "execution_count": 11,
     "metadata": {},
     "output_type": "execute_result"
    }
   ],
   "source": [
    "len(root)"
   ]
  },
  {
   "cell_type": "code",
   "execution_count": 12,
   "metadata": {},
   "outputs": [
    {
     "name": "stdout",
     "output_type": "stream",
     "text": [
      "Lady Diana Spencer\n"
     ]
    }
   ],
   "source": [
    "print(oldest_prince.get(\"marriedTo\"))"
   ]
  },
  {
   "cell_type": "markdown",
   "metadata": {},
   "source": [
    "The *find()* method returns only the first matching child.\n",
    "\n"
   ]
  },
  {
   "cell_type": "code",
   "execution_count": 13,
   "metadata": {},
   "outputs": [
    {
     "name": "stdout",
     "output_type": "stream",
     "text": [
      "Charles, Prince of Wales\n"
     ]
    }
   ],
   "source": [
    "the_first_child_with_prince_tag = root.find(\"prince\")\n",
    "print (the_first_child_with_prince_tag.get('title'))"
   ]
  },
  {
   "cell_type": "markdown",
   "metadata": {},
   "source": [
    "The *iterchildren()* function allows you to iterate over children with a particular tag:\n",
    "\n"
   ]
  },
  {
   "cell_type": "code",
   "execution_count": 14,
   "metadata": {
    "scrolled": true
   },
   "outputs": [
    {
     "name": "stdout",
     "output_type": "stream",
     "text": [
      "Charles, Prince of Wales\n",
      "Andrew, Duke of York\n",
      "Edward, Earl of Wessex\n"
     ]
    }
   ],
   "source": [
    "for child in root.iterchildren(tag=\"prince\"):\n",
    "    print (child.get('title'))"
   ]
  },
  {
   "cell_type": "markdown",
   "metadata": {},
   "source": [
    "There is also a *iterdescendants()* function to iterate all descendants of a particular node."
   ]
  },
  {
   "cell_type": "markdown",
   "metadata": {},
   "source": [
    "### Exercise 1"
   ]
  },
  {
   "cell_type": "markdown",
   "metadata": {},
   "source": [
    "Using the *royal.xml*:\n",
    "\n",
    "i) Write Python code to get the title property of queen's grandsons.\n",
    "\n",
    "ii) Write Python code to get the full title of the only princess in the family tree."
   ]
  },
  {
   "cell_type": "code",
   "execution_count": 15,
   "metadata": {},
   "outputs": [
    {
     "name": "stdout",
     "output_type": "stream",
     "text": [
      "Prince William of Wales\n",
      "Prince Henry of Wales\n"
     ]
    }
   ],
   "source": [
    "#insert answer to 1 here\n",
    "prince = root[0]\n",
    "for child in prince:\n",
    "    print (child.get('title'))"
   ]
  },
  {
   "cell_type": "code",
   "execution_count": 16,
   "metadata": {},
   "outputs": [
    {
     "name": "stdout",
     "output_type": "stream",
     "text": [
      "Prince William of Wales\n",
      "Prince Henry of Wales\n"
     ]
    }
   ],
   "source": [
    "#iterate over child of root, iterate over children with a particular tag \n",
    "for child in root:\n",
    "    for grandchild in child.iterchildren(tag=\"prince\"):\n",
    "        print(grandchild.get('title'))"
   ]
  },
  {
   "cell_type": "code",
   "execution_count": 17,
   "metadata": {},
   "outputs": [
    {
     "data": {
      "text/plain": [
       "'Anne, Princess Royal'"
      ]
     },
     "execution_count": 17,
     "metadata": {},
     "output_type": "execute_result"
    }
   ],
   "source": [
    "#second question: title of the only princess\n",
    "the_first_princess = root.find('princess')\n",
    "the_first_princess.get('title')"
   ]
  },
  {
   "cell_type": "markdown",
   "metadata": {},
   "source": [
    "### Accessing XML attributes\n"
   ]
  },
  {
   "cell_type": "markdown",
   "metadata": {},
   "source": [
    "You can access the XML attributes of an element using the *get()* method\n",
    "or *attrib* properties of an element.\n",
    "\n"
   ]
  },
  {
   "cell_type": "code",
   "execution_count": 18,
   "metadata": {},
   "outputs": [
    {
     "name": "stdout",
     "output_type": "stream",
     "text": [
      "{'title': 'Queen Elizabeth II', 'marriedTo': 'Philip, Duke of Edinburgh'}\n"
     ]
    }
   ],
   "source": [
    "print (root.attrib)"
   ]
  },
  {
   "cell_type": "code",
   "execution_count": 19,
   "metadata": {},
   "outputs": [
    {
     "name": "stdout",
     "output_type": "stream",
     "text": [
      "prince\n",
      "{'title': 'Charles, Prince of Wales', 'marriedTo': 'Lady Diana Spencer'}\n",
      "princess\n",
      "{'title': 'Anne, Princess Royal'}\n",
      "prince\n",
      "{'title': 'Andrew, Duke of York'}\n",
      "prince\n",
      "{'title': 'Edward, Earl of Wessex'}\n"
     ]
    }
   ],
   "source": [
    "for child in root:\n",
    "    print (child.tag)\n",
    "    print (child.attrib)"
   ]
  },
  {
   "cell_type": "code",
   "execution_count": 20,
   "metadata": {},
   "outputs": [
    {
     "name": "stdout",
     "output_type": "stream",
     "text": [
      "Queen Elizabeth II\n"
     ]
    }
   ],
   "source": [
    "print (root.get(\"title\"))"
   ]
  },
  {
   "cell_type": "markdown",
   "metadata": {},
   "source": [
    "### Accessing XML text\n"
   ]
  },
  {
   "cell_type": "raw",
   "metadata": {},
   "source": [
    "Let's now use another sample of XML data. Consider the file book.xml\n",
    "\n",
    "<?xml version=\"1.0\" encoding=\"utf-8\"?>\n",
    "<book id=\"book001\">\n",
    "  <author>Salinger, J. D.</author>\n",
    "  <title>The Catcher in the Rye</title>\n",
    "  <language>English</language>\n",
    "  <publish_date>1951-07-16</publish_date>\n",
    "  <publisher>Little, Brown and Company</publisher>\n",
    "  <isbn>0-316-76953-3</isbn>\n",
    "  <description>A story about a few important days in the life of Holden Caulfield</description>\n",
    "</book>\n",
    "\n"
   ]
  },
  {
   "cell_type": "markdown",
   "metadata": {},
   "source": [
    "This XML looks different to the *royal2.xml* in that it has some\n",
    "text content within each element. To access the text content of an\n",
    "element (text between start and end tag), use *text* properties of that\n",
    "element"
   ]
  },
  {
   "cell_type": "code",
   "execution_count": 21,
   "metadata": {},
   "outputs": [
    {
     "name": "stdout",
     "output_type": "stream",
     "text": [
      "author: Salinger, J. D.\n",
      "title: The Catcher in the Rye\n",
      "language: English\n",
      "publish_date: 1951-07-16\n",
      "publisher: Little, Brown and Company\n",
      "isbn: 0-316-76953-3\n",
      "description: A story about a few important days in the life of Holden Caulfield\n"
     ]
    }
   ],
   "source": [
    "from lxml import etree\n",
    "xmltree = etree.parse('book.xml')\n",
    "root = xmltree.getroot()\n",
    "for child in root:\n",
    "    print (child.tag + \": \" + child.text)"
   ]
  },
  {
   "cell_type": "markdown",
   "metadata": {},
   "source": [
    "### Building XML data\n",
    "\n"
   ]
  },
  {
   "cell_type": "markdown",
   "metadata": {},
   "source": [
    "Let's go back to the *book.xml* example above. As usual, use *lxml* library to parse the XML and get the root of the tree:\n",
    "\n"
   ]
  },
  {
   "cell_type": "code",
   "execution_count": 22,
   "metadata": {},
   "outputs": [],
   "source": [
    "from lxml import etree\n",
    "xmltree = etree.parse('book.xml')\n",
    "root = xmltree.getroot()"
   ]
  },
  {
   "cell_type": "markdown",
   "metadata": {},
   "source": [
    "To create a new XML element, use *etree.Element()* function:\n",
    "\n"
   ]
  },
  {
   "cell_type": "code",
   "execution_count": 23,
   "metadata": {},
   "outputs": [
    {
     "name": "stdout",
     "output_type": "stream",
     "text": [
      "<genre>Novel</genre>\n",
      "\n"
     ]
    }
   ],
   "source": [
    "new_element = etree.Element('genre') #upper case: not a method but a class/object in Python\n",
    "new_element.text = 'Novel'\n",
    "root.append(new_element)\n",
    "print(etree.tostring(root[-1],pretty_print=True,encoding='unicode'))   # the last element, the newly appended element\n",
    "# etree.tostring: print element of tree, root[-1] is the last element of root "
   ]
  },
  {
   "cell_type": "code",
   "execution_count": 24,
   "metadata": {},
   "outputs": [
    {
     "name": "stdout",
     "output_type": "stream",
     "text": [
      "author:Salinger, J. D.\n",
      "title:The Catcher in the Rye\n",
      "language:English\n",
      "publish_date:1951-07-16\n",
      "publisher:Little, Brown and Company\n",
      "isbn:0-316-76953-3\n",
      "description:A story about a few important days in the life of Holden Caulfield\n",
      "genre:Novel\n"
     ]
    }
   ],
   "source": [
    "for child in root:\n",
    "    print(child.tag + \":\" + child.text)"
   ]
  },
  {
   "cell_type": "markdown",
   "metadata": {},
   "source": [
    "Tips: You can create a totally a new XML tree by constructing the root element:"
   ]
  },
  {
   "cell_type": "code",
   "execution_count": 25,
   "metadata": {},
   "outputs": [],
   "source": [
    "## new XML tree of root - root \n",
    "root = etree.Element('book')"
   ]
  },
  {
   "cell_type": "markdown",
   "metadata": {},
   "source": [
    "You can also create new element using *SubElement()* function:\n"
   ]
  },
  {
   "cell_type": "code",
   "execution_count": 26,
   "metadata": {
    "scrolled": true
   },
   "outputs": [
    {
     "name": "stdout",
     "output_type": "stream",
     "text": [
      "price 23.95\n"
     ]
    }
   ],
   "source": [
    "new_element = etree.SubElement(root, \"price\")\n",
    "new_element.text = '23.95'\n",
    "for e in root: # check whether the new element is added\n",
    "    print(e.tag, e.text)"
   ]
  },
  {
   "cell_type": "markdown",
   "metadata": {},
   "source": [
    "Use *insert()* to insert a new element at a specific location:"
   ]
  },
  {
   "cell_type": "code",
   "execution_count": 27,
   "metadata": {},
   "outputs": [
    {
     "name": "stdout",
     "output_type": "stream",
     "text": [
      "<country>United States</country>\n",
      "\n"
     ]
    }
   ],
   "source": [
    "#an alternative way to add another element into the tree\n",
    "root.insert(1,etree.Element(\"country\"))\n",
    "root[1].text = \"United States\"\n",
    "print(etree.tostring(root[1],pretty_print=True,encoding='unicode'))"
   ]
  },
  {
   "cell_type": "code",
   "execution_count": 28,
   "metadata": {},
   "outputs": [
    {
     "name": "stdout",
     "output_type": "stream",
     "text": [
      "<book>\n",
      "  <price>23.95</price>\n",
      "  <country>United States</country>\n",
      "</book>\n",
      "\n"
     ]
    }
   ],
   "source": [
    "print(etree.tostring(root, pretty_print=True, encoding='unicode'))"
   ]
  },
  {
   "cell_type": "markdown",
   "metadata": {},
   "source": [
    "### Serialising XML data (printing as web content or writing into a file)\n"
   ]
  },
  {
   "cell_type": "markdown",
   "metadata": {},
   "source": [
    "You can get the whole XML string by calling *etree.tostring()* with the root of the tree as the first parameter:\n",
    "\n"
   ]
  },
  {
   "cell_type": "code",
   "execution_count": 29,
   "metadata": {},
   "outputs": [
    {
     "name": "stdout",
     "output_type": "stream",
     "text": [
      "price\n",
      "country\n"
     ]
    }
   ],
   "source": [
    "output = etree.tostring(root, pretty_print=True, encoding=\"UTF-8\")\n",
    "for e in root:\n",
    "   print(e.tag)"
   ]
  },
  {
   "cell_type": "code",
   "execution_count": 30,
   "metadata": {},
   "outputs": [
    {
     "data": {
      "text/plain": [
       "73"
      ]
     },
     "execution_count": 30,
     "metadata": {},
     "output_type": "execute_result"
    }
   ],
   "source": [
    "open('output.xml','wb').write(output)"
   ]
  },
  {
   "cell_type": "markdown",
   "metadata": {},
   "source": [
    "### Exercise 2"
   ]
  },
  {
   "cell_type": "markdown",
   "metadata": {},
   "source": [
    "Write Python code to load in the file \"book.xml\", change the ISBN to \"Unknown\" and then write out the file to \"book-new.xml\""
   ]
  },
  {
   "cell_type": "code",
   "execution_count": 31,
   "metadata": {},
   "outputs": [],
   "source": [
    "#insert answer to 2 here\n",
    "xmlBook = etree.parse('book.xml')"
   ]
  },
  {
   "cell_type": "code",
   "execution_count": 32,
   "metadata": {},
   "outputs": [],
   "source": [
    "rootBook = xmlBook.getroot()\n",
    "rootBook.find('isbn').text = 'Unknown'"
   ]
  },
  {
   "cell_type": "code",
   "execution_count": 33,
   "metadata": {},
   "outputs": [
    {
     "name": "stdout",
     "output_type": "stream",
     "text": [
      "author:Salinger, J. D.\n",
      "title:The Catcher in the Rye\n",
      "language:English\n",
      "publish_date:1951-07-16\n",
      "publisher:Little, Brown and Company\n",
      "isbn:Unknown\n",
      "description:A story about a few important days in the life of Holden Caulfield\n"
     ]
    }
   ],
   "source": [
    "for child in rootBook:\n",
    "    print(child.tag + ':' + child.text)"
   ]
  },
  {
   "cell_type": "code",
   "execution_count": 34,
   "metadata": {},
   "outputs": [
    {
     "data": {
      "text/plain": [
       "346"
      ]
     },
     "execution_count": 34,
     "metadata": {},
     "output_type": "execute_result"
    }
   ],
   "source": [
    "new_book = etree.tostring(rootBook, pretty_print=True, encoding ='UTF-8')\n",
    "open('book-new.xml', 'wb').write(new_book)"
   ]
  },
  {
   "cell_type": "code",
   "execution_count": 35,
   "metadata": {},
   "outputs": [
    {
     "data": {
      "text/plain": [
       "bytes"
      ]
     },
     "execution_count": 35,
     "metadata": {},
     "output_type": "execute_result"
    }
   ],
   "source": [
    "type(new_book)"
   ]
  },
  {
   "cell_type": "markdown",
   "metadata": {},
   "source": [
    "## JSON\n",
    "\n",
    "Python has a built in json module that allows you to process JSON files.  You can find out more about it by reading [its page at python.org](https://docs.python.org/3/library/json.html).  W3schools also provide a good [introductory tutorial](https://www.w3schools.com/python/python_json.asp),  while Real Python has a [more comprehensive one](https://realpython.com/python-json/).\n",
    "\n",
    "Below you can see a sample JSON file consisting of some information about a book."
   ]
  },
  {
   "cell_type": "code",
   "execution_count": 36,
   "metadata": {},
   "outputs": [],
   "source": [
    "str_json = '''\n",
    "{\n",
    "\"id\": \"book001\",\n",
    "\"author\": \"Salinger, J. D.\",\n",
    "\"title\": \"The Catcher in the Rye\",\n",
    "\"price\": \"44.95\",\n",
    "\"language\": \"English\",\n",
    "\"publish_date\": \"1951-07-16\",\n",
    "\"publisher\": \"Little, Brown and Company\",\n",
    "\"isbn\": \"0-316-76953-3\",\n",
    "\"description\": \"A story about a few important days in the life of Holden Caulfield\"\n",
    "}\n",
    "'''\n",
    "#json object correspondes to python dictionary  "
   ]
  },
  {
   "cell_type": "code",
   "execution_count": 37,
   "metadata": {},
   "outputs": [
    {
     "data": {
      "text/plain": [
       "str"
      ]
     },
     "execution_count": 37,
     "metadata": {},
     "output_type": "execute_result"
    }
   ],
   "source": [
    "type(str_json)"
   ]
  },
  {
   "cell_type": "markdown",
   "metadata": {},
   "source": [
    "Using the *json* library we are able to manipulate the JSON file as follows."
   ]
  },
  {
   "cell_type": "code",
   "execution_count": 38,
   "metadata": {},
   "outputs": [
    {
     "name": "stdout",
     "output_type": "stream",
     "text": [
      "<class 'dict'>\n",
      "44.95\n"
     ]
    }
   ],
   "source": [
    "import json\n",
    "Data = json.loads(str_json) #loads: load from a string \n",
    "print(type(Data))\n",
    "print(Data[\"price\"])\n",
    "\n",
    "# modify any attribute\n",
    "Data[\"isbn\"] = \"Unknown\"\n",
    "\n",
    "# save Json file\n",
    "with open('book_test.json', 'w') as f:\n",
    "    json.dump(Data, f,indent = 2) #to save a json object/ json dictionary => dump method\n",
    "\n",
    "# load Json file\n",
    "with open('book_test.json') as f:\n",
    "    Data = json.load(f) #load: load from a file\n"
   ]
  },
  {
   "cell_type": "markdown",
   "metadata": {},
   "source": [
    "### Exercise 3\n",
    "Add Spanish and German to the JSON file above as two extra languages represented as an array. Save this file as book2.json. Validate it on JSONLint."
   ]
  },
  {
   "cell_type": "code",
   "execution_count": 39,
   "metadata": {},
   "outputs": [],
   "source": [
    "Data['language'] = ['English', 'Spanish', 'German']"
   ]
  },
  {
   "cell_type": "code",
   "execution_count": 40,
   "metadata": {},
   "outputs": [
    {
     "data": {
      "text/plain": [
       "{'id': 'book001',\n",
       " 'author': 'Salinger, J. D.',\n",
       " 'title': 'The Catcher in the Rye',\n",
       " 'price': '44.95',\n",
       " 'language': ['English', 'Spanish', 'German'],\n",
       " 'publish_date': '1951-07-16',\n",
       " 'publisher': 'Little, Brown and Company',\n",
       " 'isbn': 'Unknown',\n",
       " 'description': 'A story about a few important days in the life of Holden Caulfield'}"
      ]
     },
     "execution_count": 40,
     "metadata": {},
     "output_type": "execute_result"
    }
   ],
   "source": [
    "Data\n",
    "#print(type(Data)) => dict => indicate it is already an json dictionary "
   ]
  },
  {
   "cell_type": "code",
   "execution_count": 41,
   "metadata": {},
   "outputs": [],
   "source": [
    "with open('book2.json', 'w') as f:\n",
    "    json.dump(Data, f, indent = 2) #json.dumps(str_json_modify, f, indent=2) =>dumps: dump string"
   ]
  },
  {
   "cell_type": "code",
   "execution_count": 42,
   "metadata": {},
   "outputs": [
    {
     "data": {
      "text/plain": [
       "{'id': 'book001',\n",
       " 'author': 'Salinger, J. D.',\n",
       " 'title': 'The Catcher in the Rye',\n",
       " 'price': '44.95',\n",
       " 'language': ['English', 'Spanish', 'German'],\n",
       " 'publish_date': '1951-07-16',\n",
       " 'publisher': 'Little, Brown and Company',\n",
       " 'isbn': 'Unknown',\n",
       " 'description': 'A story about a few important days in the life of Holden Caulfield'}"
      ]
     },
     "execution_count": 42,
     "metadata": {},
     "output_type": "execute_result"
    }
   ],
   "source": [
    "# load and check the answer\n",
    "with open('book2.json') as f:\n",
    "    DataLang = json.load(f)    \n",
    "DataLang"
   ]
  },
  {
   "cell_type": "markdown",
   "metadata": {},
   "source": [
    "### Exercise 4 (If you have time)\n",
    "Now modify the publish date parameter. Make this an array of two objects that have\n",
    "properties of edition (first, second) and date (1951-07-16,1979-01-01) respectively. Save\n",
    "this file as book3.json."
   ]
  },
  {
   "cell_type": "code",
   "execution_count": 43,
   "metadata": {},
   "outputs": [],
   "source": [
    "Data[\"publish_date\"] = [{\"edition\": \"first\", \"date\": \"1951-07-16\"}, {\"edition\": \"second\", \"date\": \"1979-01-01\"}]"
   ]
  },
  {
   "cell_type": "code",
   "execution_count": 44,
   "metadata": {},
   "outputs": [
    {
     "data": {
      "text/plain": [
       "{'id': 'book001',\n",
       " 'author': 'Salinger, J. D.',\n",
       " 'title': 'The Catcher in the Rye',\n",
       " 'price': '44.95',\n",
       " 'language': ['English', 'Spanish', 'German'],\n",
       " 'publish_date': [{'edition': 'first', 'date': '1951-07-16'},\n",
       "  {'edition': 'second', 'date': '1979-01-01'}],\n",
       " 'publisher': 'Little, Brown and Company',\n",
       " 'isbn': 'Unknown',\n",
       " 'description': 'A story about a few important days in the life of Holden Caulfield'}"
      ]
     },
     "execution_count": 44,
     "metadata": {},
     "output_type": "execute_result"
    }
   ],
   "source": [
    "Data"
   ]
  },
  {
   "cell_type": "code",
   "execution_count": 45,
   "metadata": {},
   "outputs": [],
   "source": [
    "with open('book3.json', 'w') as f:\n",
    "    json.dump(Data, f, indent=4)"
   ]
  }
 ],
 "metadata": {
  "kernelspec": {
   "display_name": "Python 3",
   "language": "python",
   "name": "python3"
  },
  "language_info": {
   "codemirror_mode": {
    "name": "ipython",
    "version": 3
   },
   "file_extension": ".py",
   "mimetype": "text/x-python",
   "name": "python",
   "nbconvert_exporter": "python",
   "pygments_lexer": "ipython3",
   "version": "3.7.4"
  }
 },
 "nbformat": 4,
 "nbformat_minor": 4
}
